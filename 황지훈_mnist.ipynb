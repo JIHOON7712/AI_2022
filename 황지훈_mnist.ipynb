{
  "cells": [
    {
      "cell_type": "code",
      "execution_count": null,
      "metadata": {
        "id": "Rv84gvxsFvc0"
      },
      "outputs": [],
      "source": [
        "import torchvision\n",
        "import torch\n",
        "\n",
        "import matplotlib.pyplot as plt\n",
        "import numpy as np"
      ]
    },
    {
      "cell_type": "code",
      "execution_count": null,
      "metadata": {
        "id": "SOyXirm7Fvc1"
      },
      "outputs": [],
      "source": [
        "#_Data loading\n",
        "batch_size = 12\n",
        "\n",
        "train_data = torchvision.datasets.MNIST(root = '~/Desktop/AritificialIntelligence/MNIST_datasets',train = True, download = True, transform = torchvision.transforms.ToTensor())\n",
        "test_data = torchvision.datasets.MNIST(root = '~/Desktop/AritificialIntelligence/MNIST_datasets',train = False, download = True, transform = torchvision.transforms.ToTensor())\n",
        "\n",
        "train_loader = torch.utils.data.DataLoader(train_data, batch_size = batch_size, shuffle = True)\n",
        "test_loader = torch.utils.data.DataLoader(test_data, batch_size = batch_size)"
      ]
    },
    {
      "cell_type": "code",
      "execution_count": null,
      "metadata": {
        "id": "mslnfEsqFvc2"
      },
      "outputs": [],
      "source": [
        "#_Model\n",
        "class MLP(torch.nn.Module):\n",
        "    def __init__(self,input_dim,output_dim,hidden_layer):\n",
        "        super().__init__()\n",
        "        \n",
        "        self.in_dim = input_dim\n",
        "        self.out_dim = output_dim\n",
        "        self.hidden_layer = hidden_layer\n",
        "\n",
        "        self.unitsize = [self.in_dim]\n",
        "\n",
        "        for i in range((self.hidden_layer-1),0,-1):\n",
        "            self.unitsize.append(2**(i+5))\n",
        "        self.unitsize.append(self.out_dim)\n",
        "\n",
        "        self.layers = torch.nn.ModuleList([torch.nn.Linear(x,y) for x,y in zip((self.unitsize),(self.unitsize)[1:])])\n",
        "        self.relu = torch.nn.ReLU()\n",
        "        \n",
        "    def forward(self,x):\n",
        "        out = self.layers[0](x.view(-1,self.in_dim))\n",
        "        for layer in self.layers[1:]:\n",
        "            out = self.relu(layer(out))\n",
        "        return out"
      ]
    },
    {
      "cell_type": "code",
      "execution_count": null,
      "metadata": {
        "colab": {
          "background_save": true,
          "base_uri": "https://localhost:8080/"
        },
        "id": "hX-VlgzTFvc3",
        "outputId": "b0847c74-9476-4718-aa96-2c9070fc3289"
      },
      "outputs": [
        {
          "name": "stdout",
          "output_type": "stream",
          "text": [
            "Finsihed Training\n",
            "Finsihed Training\n",
            "Finsihed Training\n",
            "Finsihed Training\n"
          ]
        }
      ],
      "source": [
        "x_axis = []\n",
        "y_axis = []\n",
        "for num_layer in range(2,6,):\n",
        "    # Train\n",
        "    model = MLP(28*28,10,num_layer)\n",
        "    criterion = torch.nn.CrossEntropyLoss()\n",
        "    optimizer = torch.optim.SGD(model.parameters(), lr = 0.1)\n",
        "\n",
        "    training_epoch = 10\n",
        "    for epoch in range(training_epoch):\n",
        "        running_loss = 0.0\n",
        "        for i,data in enumerate(train_loader,0):\n",
        "            inputs, labels = data\n",
        "\n",
        "            optimizer.zero_grad()\n",
        "\n",
        "            outputs = model(inputs)\n",
        "            loss = criterion(outputs, labels)\n",
        "            loss.backward()\n",
        "            optimizer.step()\n",
        "\n",
        "            running_loss += loss.item()\n",
        "            if(i+1) % 2000 == 0:\n",
        "                running_loss = 0.0\n",
        "\n",
        "    print(\"Finsihed Training\")\n",
        "\n",
        "    #_Test\n",
        "    n_predict = 0\n",
        "    n_correct = 0\n",
        "\n",
        "    for data in test_loader:\n",
        "        inputs, labels = data\n",
        "        outputs = model(inputs)\n",
        "        _, predicted = torch.max(outputs, 1)\n",
        "    \n",
        "        n_predict += len(predicted)\n",
        "        n_correct += (labels == predicted).sum()\n",
        "        \n",
        "    y_axis.append(n_correct / n_predict)\n",
        "    x_axis.append(num_layer)"
      ]
    },
    {
      "cell_type": "code",
      "execution_count": null,
      "metadata": {
        "colab": {
          "background_save": true
        },
        "id": "P35dbbkzFvc4",
        "outputId": "19c0f5f2-2bc4-48ce-9857-7715b29a2ede"
      },
      "outputs": [
        {
          "data": {
            "image/png": "[encoded data removed]",
            "text/plain": [
              "<Figure size 432x288 with 1 Axes>"
            ]
          },
          "metadata": {},
          "output_type": "display_data"
        },
        {
          "name": "stdout",
          "output_type": "stream",
          "text": [
            "[2, 3, 4, 5] [tensor(0.9133), tensor(0.9411), tensor(0.9651), tensor(0.9706)]\n"
          ]
        }
      ],
      "source": [
        "#Show\n",
        "plt.plot(x_axis, y_axis, marker = 'o')\n",
        "plt.show()\n",
        "print(x_axis,y_axis)"
      ]
    }
  ],
  "metadata": {
    "colab": {
      "provenance": []
    },
    "kernelspec": {
      "display_name": "Python 3.10.4 ('AI')",
      "language": "python",
      "name": "python3"
    },
    "language_info": {
      "codemirror_mode": {
        "name": "ipython",
        "version": 3
      },
      "file_extension": ".py",
      "mimetype": "text/x-python",
      "name": "python",
      "nbconvert_exporter": "python",
      "pygments_lexer": "ipython3",
      "version": "3.10.4"
    },
    "vscode": {
      "interpreter": {
        "hash": "40c7dcb54d0332ec273cb597e51363901a62e20093019e9632d44f17b1fec8c8"
      }
    }
  },
  "nbformat": 4,
  "nbformat_minor": 0
}